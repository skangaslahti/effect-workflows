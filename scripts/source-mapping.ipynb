{
 "cells": [
  {
   "cell_type": "code",
   "execution_count": 6,
   "metadata": {
    "collapsed": false
   },
   "outputs": [],
   "source": [
    "sample_data_folder = \"/Users/dipsy/github/effect/effect-data/isi/source-analysis/data\"\n",
    "import os\n",
    "import json\n",
    "source_files = os.listdir(sample_data_folder)"
   ]
  },
  {
   "cell_type": "code",
   "execution_count": 7,
   "metadata": {
    "collapsed": false
   },
   "outputs": [
    {
     "name": "stdout",
     "output_type": "stream",
     "text": [
      "['asu-hacking-items.jl', 'asu-hacking-posts.jl', 'asu-twitter.jl', 'asu-zero-day-products.jl', 'hackmageddon.jl', 'hg-abusech.jl', 'hg-blogs.jl', 'hg-conference.jl', 'hg-cpe.jl', 'hg-cve.jl', 'hg-msbulletin.jl', 'hg-taxii.jl', 'hg-zdi.jl', 'isi-twitter.jl']\n"
     ]
    }
   ],
   "source": [
    "print (source_files)"
   ]
  },
  {
   "cell_type": "code",
   "execution_count": 113,
   "metadata": {
    "collapsed": false
   },
   "outputs": [
    {
     "name": "stdout",
     "output_type": "stream",
     "text": [
      "1:asu-hacking-items\n",
      "2:asu-hacking-posts\n",
      "3:asu-twitter\n",
      "4:asu-zero-day-products\n",
      "5:hackmageddon\n",
      "6:hg-abusech\n",
      "7:hg-blogs\n",
      "8:hg-conference\n",
      "9:hg-cpe\n",
      "10:hg-cve\n",
      "11:hg-msbulletin\n",
      "12:hg-taxii\n",
      "13:hg-zdi\n",
      "14:isi-twitter\n"
     ]
    }
   ],
   "source": [
    "i = 1\n",
    "for filename in source_files:\n",
    "    source_name = filename[0:len(filename)-3]\n",
    "    print(str(i) + \":\" + source_name)\n",
    "    i += 1"
   ]
  },
  {
   "cell_type": "code",
   "execution_count": 99,
   "metadata": {
    "collapsed": false
   },
   "outputs": [],
   "source": [
    "def get_attributes_in_dict(dictionary):\n",
    "    result = set()\n",
    "    for (key, value) in dictionary.items():\n",
    "        if key == \"affected_products\":\n",
    "            result.add(key)\n",
    "        elif type(value) == dict:\n",
    "            inner_set = get_attributes_in_dict(value)\n",
    "            for x in inner_set:\n",
    "                inner_value = key + \".\" + x\n",
    "                result.add(inner_value)\n",
    "        elif type(value) == list or type(value) == set:\n",
    "            for list_elem in value:\n",
    "                if type(list_elem) == dict:\n",
    "                    inner_set = get_attributes_in_dict(list_elem)\n",
    "                    for x in inner_set:\n",
    "                        inner_value = key + \".\" + x\n",
    "                        result.add(inner_value)\n",
    "        else:\n",
    "            result.add(key)\n",
    "    return result"
   ]
  },
  {
   "cell_type": "code",
   "execution_count": null,
   "metadata": {
    "collapsed": true
   },
   "outputs": [],
   "source": []
  },
  {
   "cell_type": "code",
   "execution_count": 100,
   "metadata": {
    "collapsed": true
   },
   "outputs": [],
   "source": [
    "def get_attributes_in_jsonlines(json_lines):\n",
    "    attributes = set()\n",
    "    for json_line in json_lines:\n",
    "        attribs = get_attributes_in_dict(json_line)\n",
    "        for a in attribs:\n",
    "            attributes.add(a)\n",
    "    atts_list = list(attributes)\n",
    "    atts_list.sort()\n",
    "    return atts_list"
   ]
  },
  {
   "cell_type": "code",
   "execution_count": 101,
   "metadata": {
    "collapsed": false
   },
   "outputs": [],
   "source": [
    "def get_attributes_in_file(filename):\n",
    "    f = open(filename)\n",
    "    attributes = set()\n",
    "    for line in f:\n",
    "        json_line = json.loads(line)\n",
    "        attribs = get_attributes_in_dict(json_line)\n",
    "        for a in attribs:\n",
    "            attributes.add(a)\n",
    "    atts_list = list(attributes)\n",
    "    atts_list.sort()\n",
    "    return atts_list\n"
   ]
  },
  {
   "cell_type": "code",
   "execution_count": 112,
   "metadata": {
    "collapsed": false
   },
   "outputs": [
    {
     "name": "stdout",
     "output_type": "stream",
     "text": [
      "=====================================================\n",
      "asu-hacking-items\n",
      "-------------------------\n",
      "autoTranslated\n",
      "entity\n",
      "entity.entityEnglishId\n",
      "entity.entityId\n",
      "entity.freebaseTypes\n",
      "entity.matchedText\n",
      "entity.type\n",
      "financialTags\n",
      "itemCategory\n",
      "itemCve\n",
      "itemDescription\n",
      "itemEscrowinfo\n",
      "itemId\n",
      "itemLastViewDate\n",
      "itemMs\n",
      "itemName\n",
      "itemQuantityLeft\n",
      "itemQuantitySold\n",
      "itemShippedFrom\n",
      "itemShippedTo\n",
      "itemSuccessfulTrans\n",
      "itemVendorRating\n",
      "itemViews\n",
      "language\n",
      "marketplaceId\n",
      "postedDate\n",
      "recordedDate\n",
      "recordedTime\n",
      "scrapedDate\n",
      "sellingPrice.sellingPrice_Usd\n",
      "sellingPriceUsd\n",
      "softwareTags\n",
      "tags\n",
      "uid\n",
      "=====================================================\n",
      "asu-hacking-posts\n",
      "-------------------------\n",
      "autoTranslated\n",
      "boardsName\n",
      "entity\n",
      "entity.entityEnglishId\n",
      "entity.entityId\n",
      "entity.freebaseTypes\n",
      "entity.matchedText\n",
      "entity.type\n",
      "financialTags\n",
      "forumsId\n",
      "indicator\n",
      "language\n",
      "postContent\n",
      "postCve\n",
      "postMs\n",
      "postedDate\n",
      "postedTime\n",
      "postsId\n",
      "recordedDate\n",
      "recordedTime\n",
      "recorded_Time\n",
      "scrapedDate\n",
      "softwareTags\n",
      "tags\n",
      "topicId\n",
      "topicsName\n",
      "uid\n",
      "=====================================================\n",
      "asu-twitter\n",
      "-------------------------\n",
      "content_type\n",
      "conversation_id\n",
      "favorites\n",
      "hashtags\n",
      "mentions\n",
      "recorded_time_seconds\n",
      "retweet\n",
      "tweetContent\n",
      "tweet_id\n",
      "userName\n",
      "=====================================================\n",
      "asu-zero-day-products\n",
      "-------------------------\n",
      "description\n",
      "financialTags\n",
      "itemCategory\n",
      "itemId\n",
      "itemName\n",
      "language\n",
      "marketplaceId\n",
      "postedDate\n",
      "recordedDate\n",
      "scrapedDate\n",
      "sellingPriceUsd\n",
      "softwareTags\n",
      "=====================================================\n",
      "hackmageddon\n",
      "-------------------------\n",
      "attack\n",
      "attack_class\n",
      "author\n",
      "country\n",
      "date\n",
      "description\n",
      "id\n",
      "link\n",
      "tags\n",
      "target\n",
      "target_class\n",
      "=====================================================\n",
      "hg-abusech\n",
      "-------------------------\n",
      "_id\n",
      "asn\n",
      "associated_ip_stats.active\n",
      "associated_ip_stats.as_name\n",
      "associated_ip_stats.as_number\n",
      "associated_ip_stats.country\n",
      "associated_ip_stats.firstseen\n",
      "associated_ip_stats.hostname\n",
      "associated_ip_stats.ip_address\n",
      "associated_ip_stats.lastseen\n",
      "associated_ip_stats.sbl\n",
      "country\n",
      "first_seen\n",
      "host\n",
      "ip_addresses\n",
      "malware\n",
      "parsed_time\n",
      "registrar\n",
      "status\n",
      "threat\n",
      "url\n",
      "=====================================================\n",
      "hg-blogs\n",
      "-------------------------\n",
      "_id\n",
      "html\n",
      "link\n",
      "parsed\n",
      "published\n",
      "site\n",
      "text\n",
      "title\n",
      "=====================================================\n",
      "hg-conference\n",
      "-------------------------\n",
      "_id\n",
      "html\n",
      "meta_description\n",
      "meta_keywords\n",
      "site\n",
      "text\n",
      "timestamp\n",
      "title\n",
      "type\n",
      "url\n",
      "=====================================================\n",
      "hg-cpe\n",
      "-------------------------\n",
      "_id\n",
      "cpe.cpe_version\n",
      "cpe.edition\n",
      "cpe.language\n",
      "cpe.other\n",
      "cpe.part\n",
      "cpe.product\n",
      "cpe.software_edition\n",
      "cpe.target_hardware\n",
      "cpe.target_software\n",
      "cpe.type\n",
      "cpe.update\n",
      "cpe.vendor\n",
      "cpe.version\n",
      "cpe_23_name\n",
      "item_name\n",
      "language\n",
      "parsed\n",
      "title\n",
      "=====================================================\n",
      "hg-cve\n",
      "-------------------------\n",
      "_id\n",
      "cve\n",
      "human_summary\n",
      "last_modified_datetime\n",
      "published_datetime\n",
      "timestamp\n",
      "vulnerability_scoring.cvss:base_metrics.cvss:access-complexity.#text\n",
      "vulnerability_scoring.cvss:base_metrics.cvss:access-vector.#text\n",
      "vulnerability_scoring.cvss:base_metrics.cvss:authentication.#text\n",
      "vulnerability_scoring.cvss:base_metrics.cvss:availability-impact.#text\n",
      "vulnerability_scoring.cvss:base_metrics.cvss:confidentiality-impact.#text\n",
      "vulnerability_scoring.cvss:base_metrics.cvss:generated-on-datetime\n",
      "vulnerability_scoring.cvss:base_metrics.cvss:integrity-impact.#text\n",
      "vulnerability_scoring.cvss:base_metrics.cvss:score\n",
      "vulnerability_scoring.cvss:base_metrics.cvss:source\n",
      "vulnerable_software.vuln:product\n",
      "=====================================================\n",
      "hg-msbulletin\n",
      "-------------------------\n",
      "_id\n",
      "acknowledgments.links.href\n",
      "acknowledgments.links.text\n",
      "acknowledgments.text\n",
      "affected_products\n",
      "affected_software.links.href\n",
      "affected_software.links.text\n",
      "affected_software.text\n",
      "affected_software_and_vulnerability_severity_ratings.links.href\n",
      "affected_software_and_vulnerability_severity_ratings.links.text\n",
      "affected_software_and_vulnerability_severity_ratings.text\n",
      "disclaimer.text\n",
      "frequently_asked_questions.links.href\n",
      "frequently_asked_questions.links.text\n",
      "frequently_asked_questions.text\n",
      "id\n",
      "mitigating_factors.links.href\n",
      "mitigating_factors.links.text\n",
      "mitigating_factors.text\n",
      "published\n",
      "revisions.links.href\n",
      "revisions.links.text\n",
      "revisions.text\n",
      "security_update_deployment.links.href\n",
      "security_update_deployment.links.text\n",
      "security_update_deployment.text\n",
      "severity_ratings_and_vulnerability_identifiers.links.href\n",
      "severity_ratings_and_vulnerability_identifiers.links.text\n",
      "severity_ratings_and_vulnerability_identifiers.text\n",
      "summary.links.href\n",
      "summary.links.text\n",
      "summary.text\n",
      "title\n",
      "update_faq.links.href\n",
      "update_faq.links.text\n",
      "update_faq.text\n",
      "updated\n",
      "vulnerability_information.links.href\n",
      "vulnerability_information.links.text\n",
      "vulnerability_information.text\n",
      "workarounds.links.href\n",
      "workarounds.links.text\n",
      "workarounds.text\n",
      "=====================================================\n",
      "hg-taxii\n",
      "-------------------------\n",
      "_id\n",
      "description\n",
      "id\n",
      "observable.OR.description\n",
      "observable.OR.file_format\n",
      "observable.OR.file_name\n",
      "observable.OR.hash_type\n",
      "observable.OR.id\n",
      "observable.OR.title\n",
      "observable.OR.type\n",
      "observable.OR.value\n",
      "observable.address_type\n",
      "observable.description\n",
      "observable.id\n",
      "observable.title\n",
      "observable.value\n",
      "producer\n",
      "timestamp\n",
      "title\n",
      "ttps.behavior_id\n",
      "ttps.behavior_name\n",
      "ttps.behavior_type\n",
      "ttps.id\n",
      "ttps.target_name\n",
      "ttps.targeted_information\n",
      "ttps.targeted_systems\n",
      "ttps.timestamp\n",
      "ttps.title\n",
      "=====================================================\n",
      "hg-zdi\n",
      "-------------------------\n",
      "_id.$oid\n",
      "affected_products\n",
      "cve_id\n",
      "cvss_score.access_complexity\n",
      "cvss_score.access_vector\n",
      "cvss_score.authentication\n",
      "cvss_score.availability_impact\n",
      "cvss_score.confidentiality_impact\n",
      "cvss_score.integrity_impact\n",
      "date.$date\n",
      "link\n",
      "tippingpoint™_ips_customer_protection\n",
      "title\n",
      "vulnerability_details\n",
      "zdi_id\n",
      "=====================================================\n",
      "isi-twitter\n",
      "-------------------------\n",
      "content_type\n",
      "conversation_id\n",
      "favorites\n",
      "hashtags\n",
      "mentions\n",
      "recorded_time_seconds\n",
      "retweet\n",
      "tweetContent\n",
      "tweet_id\n",
      "userName\n"
     ]
    }
   ],
   "source": [
    "for filename in source_files:\n",
    "    source_name = filename[0:len(filename)-3]\n",
    "    print (\"=====================================================\")\n",
    "    print(source_name)\n",
    "    print (\"-------------------------\")\n",
    "    attributes = get_attributes_in_file(sample_data_folder + \"/\" + filename)\n",
    "    for attrib in attributes:\n",
    "        print(attrib)"
   ]
  },
  {
   "cell_type": "code",
   "execution_count": 103,
   "metadata": {
    "collapsed": true
   },
   "outputs": [],
   "source": [
    "import requests\n",
    "from requests.auth import HTTPBasicAuth\n",
    "\n",
    "def byteify(input):\n",
    "    if isinstance(input, dict):\n",
    "        return {byteify(key): byteify(value)\n",
    "                for key, value in input.iteritems()}\n",
    "    elif isinstance(input, list):\n",
    "        return [byteify(element) for element in input]\n",
    "    elif isinstance(input, unicode):\n",
    "        return input.encode('utf-8')\n",
    "    else:\n",
    "        return input\n",
    "\n",
    "def download_api(url, username=None, password=None, headers=None, timeout=600):\n",
    "    #timeout is in seconds\n",
    "    auth = None\n",
    "    if username is not None:\n",
    "        auth = HTTPBasicAuth(username, password)\n",
    "    print (\"Download:\" + url)\n",
    "    response = requests.get(url, verify=False,\tauth=auth, headers=headers, timeout=timeout)\n",
    "    text = response.text\n",
    "    if len(text) > 0:\n",
    "        return (json.loads(text))\n",
    "    return []"
   ]
  },
  {
   "cell_type": "code",
   "execution_count": 111,
   "metadata": {
    "collapsed": false
   },
   "outputs": [
    {
     "name": "stdout",
     "output_type": "stream",
     "text": [
      "Download:https://apigargoyle.com/GargoyleApi/getTwitterData?from=2017-07-11&to=2017-07-11&start=0&limit=10\n"
     ]
    },
    {
     "name": "stderr",
     "output_type": "stream",
     "text": [
      "/Users/dipsy/anaconda/lib/python3.5/site-packages/requests/packages/urllib3/connectionpool.py:821: InsecureRequestWarning: Unverified HTTPS request is being made. Adding certificate verification is strongly advised. See: https://urllib3.readthedocs.org/en/latest/security.html\n",
      "  InsecureRequestWarning)\n",
      "/Users/dipsy/anaconda/lib/python3.5/site-packages/requests/packages/urllib3/connectionpool.py:821: InsecureRequestWarning: Unverified HTTPS request is being made. Adding certificate verification is strongly advised. See: https://urllib3.readthedocs.org/en/latest/security.html\n",
      "  InsecureRequestWarning)\n"
     ]
    },
    {
     "name": "stdout",
     "output_type": "stream",
     "text": [
      "Download:https://effect.hyperiongray.com/api/cpe/updates/2017-07-11T00:00:00Z/pages/0?limit=10\n"
     ]
    },
    {
     "name": "stderr",
     "output_type": "stream",
     "text": [
      "/Users/dipsy/anaconda/lib/python3.5/site-packages/requests/packages/urllib3/connectionpool.py:821: InsecureRequestWarning: Unverified HTTPS request is being made. Adding certificate verification is strongly advised. See: https://urllib3.readthedocs.org/en/latest/security.html\n",
      "  InsecureRequestWarning)\n",
      "/Users/dipsy/anaconda/lib/python3.5/site-packages/requests/packages/urllib3/connectionpool.py:821: InsecureRequestWarning: Unverified HTTPS request is being made. Adding certificate verification is strongly advised. See: https://urllib3.readthedocs.org/en/latest/security.html\n",
      "  InsecureRequestWarning)\n"
     ]
    },
    {
     "name": "stdout",
     "output_type": "stream",
     "text": [
      "Download:https://effect.hyperiongray.com/api/cpe/updates/2017-07-11T00:00:00Z/pages/0?limit=10\n"
     ]
    },
    {
     "name": "stderr",
     "output_type": "stream",
     "text": [
      "/Users/dipsy/anaconda/lib/python3.5/site-packages/requests/packages/urllib3/connectionpool.py:821: InsecureRequestWarning: Unverified HTTPS request is being made. Adding certificate verification is strongly advised. See: https://urllib3.readthedocs.org/en/latest/security.html\n",
      "  InsecureRequestWarning)\n",
      "/Users/dipsy/anaconda/lib/python3.5/site-packages/requests/packages/urllib3/connectionpool.py:821: InsecureRequestWarning: Unverified HTTPS request is being made. Adding certificate verification is strongly advised. See: https://urllib3.readthedocs.org/en/latest/security.html\n",
      "  InsecureRequestWarning)\n"
     ]
    },
    {
     "name": "stdout",
     "output_type": "stream",
     "text": [
      "Download:https://effect.hyperiongray.com/api/blogs/updates/2017-07-11T00:00:00Z/pages/0?limit=10\n"
     ]
    },
    {
     "name": "stderr",
     "output_type": "stream",
     "text": [
      "/Users/dipsy/anaconda/lib/python3.5/site-packages/requests/packages/urllib3/connectionpool.py:821: InsecureRequestWarning: Unverified HTTPS request is being made. Adding certificate verification is strongly advised. See: https://urllib3.readthedocs.org/en/latest/security.html\n",
      "  InsecureRequestWarning)\n",
      "/Users/dipsy/anaconda/lib/python3.5/site-packages/requests/packages/urllib3/connectionpool.py:821: InsecureRequestWarning: Unverified HTTPS request is being made. Adding certificate verification is strongly advised. See: https://urllib3.readthedocs.org/en/latest/security.html\n",
      "  InsecureRequestWarning)\n"
     ]
    },
    {
     "name": "stdout",
     "output_type": "stream",
     "text": [
      "Download:https://effect.hyperiongray.com/api/conferences/updates/2017-07-11T00:00:00Z/pages/0?limit=10\n"
     ]
    },
    {
     "name": "stderr",
     "output_type": "stream",
     "text": [
      "/Users/dipsy/anaconda/lib/python3.5/site-packages/requests/packages/urllib3/connectionpool.py:821: InsecureRequestWarning: Unverified HTTPS request is being made. Adding certificate verification is strongly advised. See: https://urllib3.readthedocs.org/en/latest/security.html\n",
      "  InsecureRequestWarning)\n",
      "/Users/dipsy/anaconda/lib/python3.5/site-packages/requests/packages/urllib3/connectionpool.py:821: InsecureRequestWarning: Unverified HTTPS request is being made. Adding certificate verification is strongly advised. See: https://urllib3.readthedocs.org/en/latest/security.html\n",
      "  InsecureRequestWarning)\n"
     ]
    },
    {
     "name": "stdout",
     "output_type": "stream",
     "text": [
      "Download:https://apigargoyle.com/GargoyleApi/getHackingItems?order=scrapedDate&from=2017-07-11&to=2017-07-11&start=0&limit=10\n"
     ]
    },
    {
     "name": "stderr",
     "output_type": "stream",
     "text": [
      "/Users/dipsy/anaconda/lib/python3.5/site-packages/requests/packages/urllib3/connectionpool.py:821: InsecureRequestWarning: Unverified HTTPS request is being made. Adding certificate verification is strongly advised. See: https://urllib3.readthedocs.org/en/latest/security.html\n",
      "  InsecureRequestWarning)\n"
     ]
    },
    {
     "name": "stdout",
     "output_type": "stream",
     "text": [
      "Download:https://effect.hyperiongray.com/api/lehigh_edu/updates/2017-07-11T00:00:00Z/pages/0?limit=10\n"
     ]
    },
    {
     "name": "stderr",
     "output_type": "stream",
     "text": [
      "/Users/dipsy/anaconda/lib/python3.5/site-packages/requests/packages/urllib3/connectionpool.py:821: InsecureRequestWarning: Unverified HTTPS request is being made. Adding certificate verification is strongly advised. See: https://urllib3.readthedocs.org/en/latest/security.html\n",
      "  InsecureRequestWarning)\n",
      "/Users/dipsy/anaconda/lib/python3.5/site-packages/requests/packages/urllib3/connectionpool.py:821: InsecureRequestWarning: Unverified HTTPS request is being made. Adding certificate verification is strongly advised. See: https://urllib3.readthedocs.org/en/latest/security.html\n",
      "  InsecureRequestWarning)\n"
     ]
    },
    {
     "name": "stdout",
     "output_type": "stream",
     "text": [
      "Download:https://apigargoyle.com/GargoyleApi/getZerodayProducts?order=scrapedDate&from=2017-07-11&to=2017-07-11&start=0&limit=10\n",
      "Download:https://effect.hyperiongray.com/api/ransomware-tracker/updates/2017-07-11T00:00:00Z/pages/0?limit=10\n"
     ]
    },
    {
     "name": "stderr",
     "output_type": "stream",
     "text": [
      "/Users/dipsy/anaconda/lib/python3.5/site-packages/requests/packages/urllib3/connectionpool.py:821: InsecureRequestWarning: Unverified HTTPS request is being made. Adding certificate verification is strongly advised. See: https://urllib3.readthedocs.org/en/latest/security.html\n",
      "  InsecureRequestWarning)\n",
      "/Users/dipsy/anaconda/lib/python3.5/site-packages/requests/packages/urllib3/connectionpool.py:821: InsecureRequestWarning: Unverified HTTPS request is being made. Adding certificate verification is strongly advised. See: https://urllib3.readthedocs.org/en/latest/security.html\n",
      "  InsecureRequestWarning)\n",
      "/Users/dipsy/anaconda/lib/python3.5/site-packages/requests/packages/urllib3/connectionpool.py:821: InsecureRequestWarning: Unverified HTTPS request is being made. Adding certificate verification is strongly advised. See: https://urllib3.readthedocs.org/en/latest/security.html\n",
      "  InsecureRequestWarning)\n"
     ]
    },
    {
     "name": "stdout",
     "output_type": "stream",
     "text": [
      "Download:https://effect.hyperiongray.com/api/zdi/?query={\"date\":{\"$gte\": {\"$date\": 1499731200000}}}\n",
      "Download:https://apigargoyle.com/GargoyleApi/getHackingPosts?order=scrapedDate&from=2017-07-11&to=2017-07-11&start=0&limit=10\n"
     ]
    },
    {
     "name": "stderr",
     "output_type": "stream",
     "text": [
      "/Users/dipsy/anaconda/lib/python3.5/site-packages/requests/packages/urllib3/connectionpool.py:821: InsecureRequestWarning: Unverified HTTPS request is being made. Adding certificate verification is strongly advised. See: https://urllib3.readthedocs.org/en/latest/security.html\n",
      "  InsecureRequestWarning)\n",
      "/Users/dipsy/anaconda/lib/python3.5/site-packages/requests/packages/urllib3/connectionpool.py:821: InsecureRequestWarning: Unverified HTTPS request is being made. Adding certificate verification is strongly advised. See: https://urllib3.readthedocs.org/en/latest/security.html\n",
      "  InsecureRequestWarning)\n"
     ]
    },
    {
     "name": "stdout",
     "output_type": "stream",
     "text": [
      "=====================================================\n",
      "asu-twitter\n",
      "-------------------------\n",
      "['content_type', 'conversation_id', 'favorites', 'hashtags', 'mentions', 'recorded_time_seconds', 'retweet', 'tweetContent', 'tweet_id', 'userName']\n",
      "=====================================================\n",
      "hg-cpe\n",
      "-------------------------\n",
      "['_id', 'cpe.cpe_version', 'cpe.edition', 'cpe.language', 'cpe.other', 'cpe.part', 'cpe.product', 'cpe.software_edition', 'cpe.target_hardware', 'cpe.target_software', 'cpe.type', 'cpe.update', 'cpe.vendor', 'cpe.version', 'cpe_23_name', 'item_name', 'language', 'parsed', 'title']\n",
      "=====================================================\n",
      "hg-cve\n",
      "-------------------------\n",
      "['_id', 'cpe.cpe_version', 'cpe.edition', 'cpe.language', 'cpe.other', 'cpe.part', 'cpe.product', 'cpe.software_edition', 'cpe.target_hardware', 'cpe.target_software', 'cpe.type', 'cpe.update', 'cpe.vendor', 'cpe.version', 'cpe_23_name', 'item_name', 'language', 'parsed', 'title']\n",
      "=====================================================\n",
      "hg-blogs\n",
      "-------------------------\n",
      "['_id', 'html', 'link', 'parsed', 'published', 'site', 'text', 'title']\n",
      "=====================================================\n",
      "asu-hacking-items\n",
      "-------------------------\n",
      "['autoTranslated', 'entity', 'financialTags', 'itemCategory', 'itemCve', 'itemDescription', 'itemEscrowinfo', 'itemId', 'itemLastViewDate', 'itemMs', 'itemName', 'itemQuantityLeft', 'itemQuantitySold', 'itemShippedFrom', 'itemShippedTo', 'itemSuccessfulTrans', 'itemVendorRating', 'itemViews', 'language', 'marketplaceId', 'postedDate', 'recordedDate', 'recordedTime', 'scrapedDate', 'sellingPrice.sellingPrice_Usd', 'sellingPriceUsd', 'softwareTags', 'tags', 'uid']\n",
      "=====================================================\n",
      "hg-conference\n",
      "-------------------------\n",
      "[]\n",
      "=====================================================\n",
      "hg-taxii\n",
      "-------------------------\n",
      "[]\n",
      "=====================================================\n",
      "asu-zero-day-products\n",
      "-------------------------\n",
      "[]\n",
      "=====================================================\n",
      "hg-abusech\n",
      "-------------------------\n",
      "['_id', 'asn', 'associated_ip_stats.active', 'associated_ip_stats.as_name', 'associated_ip_stats.as_number', 'associated_ip_stats.country', 'associated_ip_stats.firstseen', 'associated_ip_stats.hostname', 'associated_ip_stats.ip_address', 'associated_ip_stats.lastseen', 'associated_ip_stats.sbl', 'country', 'first_seen', 'host', 'ip_addresses', 'malware', 'parsed_time', 'registrar', 'status', 'threat', 'url']\n",
      "=====================================================\n",
      "hg-zdi\n",
      "-------------------------\n",
      "['_id', 'affected_products', 'cve_id', 'cvss_score.access_complexity', 'cvss_score.access_vector', 'cvss_score.authentication', 'cvss_score.availability_impact', 'cvss_score.confidentiality_impact', 'cvss_score.integrity_impact', 'date', 'last_updated', 'link', 'tippingpoint™_ips_customer_protection', 'title', 'vulnerability_details', 'zdi_id']\n",
      "=====================================================\n",
      "asu-hacking-posts\n",
      "-------------------------\n",
      "['autoTranslated', 'boardsName', 'entity', 'financialTags', 'forumsId', 'indicator', 'language', 'postContent', 'postCve', 'postMs', 'postedDate', 'postedTime', 'postsId', 'recordedDate', 'recordedTime', 'recorded_Time', 'scrapedDate', 'softwareTags', 'tags', 'topicId', 'topicsName', 'uid']\n"
     ]
    }
   ],
   "source": [
    "date = \"2017-07-11\"\n",
    "\n",
    "from datetime import datetime\n",
    "\n",
    "\n",
    "dt = datetime.strptime(date, \"%Y-%m-%d\")\n",
    "epoch=datetime(1970,1,1)\n",
    "td = dt - epoch\n",
    "timestamp = int((td.microseconds + (td.seconds + td.days * 86400) * 10**6) / 10**6) * 1000\n",
    "\n",
    "asu_date_filter = \"from=\" + date + \"&to=\" + date + \"&start=0&limit=10\"\n",
    "hg_date_filter = date + \"T00:00:00Z/pages/0?limit=10\"\n",
    "apis = {\n",
    "    \"asu-zero-day-products\": \"https://apigargoyle.com/GargoyleApi/getZerodayProducts?order=scrapedDate&\" + asu_date_filter,\n",
    "    \"asu-hacking-items\":  \"https://apigargoyle.com/GargoyleApi/getHackingItems?order=scrapedDate&\" + asu_date_filter,\n",
    "    \"asu-hacking-posts\": \"https://apigargoyle.com/GargoyleApi/getHackingPosts?order=scrapedDate&\" + asu_date_filter,\n",
    "    \"asu-twitter\": \"https://apigargoyle.com/GargoyleApi/getTwitterData?\" + asu_date_filter,\n",
    "    \"hg-blogs\": \"https://effect.hyperiongray.com/api/blogs/updates/\" + hg_date_filter,\n",
    "    \"hg-abusech\": \"https://effect.hyperiongray.com/api/ransomware-tracker/updates/\" + hg_date_filter,\n",
    "    \"hg-zdi\": \"https://effect.hyperiongray.com/api/zdi/?query={\\\"date\\\":{\\\"$gte\\\": {\\\"$date\\\": \" + str(timestamp) + \"}}}\",\n",
    "    \"hg-cpe\": \"https://effect.hyperiongray.com/api/cpe/updates/\" + hg_date_filter,\n",
    "    \"hg-cve\": \"https://effect.hyperiongray.com/api/cpe/updates/\" + hg_date_filter,\n",
    "    \"hg-conference\": \"https://effect.hyperiongray.com/api/conferences/updates/\" + hg_date_filter,\n",
    "    \"hg-taxii\": \"https://effect.hyperiongray.com/api/lehigh_edu/updates/\" + hg_date_filter,\n",
    "}\n",
    "\n",
    "asu_headers = {\"userId\" :\"usc\",\"apiKey\": \"7a417415-d5f8-4883-82b6-b55c3a0e3d3a\", \"Connection\" : \"close\"}\n",
    "source_attribs = {}\n",
    "for api_name in apis:\n",
    "    api_url = apis[api_name]\n",
    "    if api_name.find(\"asu\") != -1:\n",
    "        data = download_api(api_url, headers=asu_headers)\n",
    "    else:\n",
    "        data = download_api(api_url, username='isi', password='KSIDOOIWHJu8ewhui8923y8gYGuYGASYUHjksahuihIHU')\n",
    "        \n",
    "    if type(data) == dict:\n",
    "        attributes = get_attributes_in_jsonlines(data['results'])\n",
    "    else:\n",
    "        attributes = get_attributes_in_jsonlines(data)\n",
    "    source_attribs[api_name] = attributes\n",
    "    \n",
    "for source_name in source_attribs:\n",
    "    attributes = source_attribs[source_name]\n",
    "    print (\"=====================================================\")\n",
    "    print(source_name)\n",
    "    print (\"-------------------------\")\n",
    "    print (attributes)"
   ]
  },
  {
   "cell_type": "code",
   "execution_count": null,
   "metadata": {
    "collapsed": true
   },
   "outputs": [],
   "source": []
  },
  {
   "cell_type": "code",
   "execution_count": null,
   "metadata": {
    "collapsed": true
   },
   "outputs": [],
   "source": []
  }
 ],
 "metadata": {
  "anaconda-cloud": {},
  "kernelspec": {
   "display_name": "Python [Root]",
   "language": "python",
   "name": "Python [Root]"
  },
  "language_info": {
   "codemirror_mode": {
    "name": "ipython",
    "version": 3
   },
   "file_extension": ".py",
   "mimetype": "text/x-python",
   "name": "python",
   "nbconvert_exporter": "python",
   "pygments_lexer": "ipython3",
   "version": "3.5.2"
  }
 },
 "nbformat": 4,
 "nbformat_minor": 0
}
